{
 "cells": [
  {
   "cell_type": "code",
   "execution_count": 1,
   "id": "8897a3c8",
   "metadata": {},
   "outputs": [
    {
     "name": "stdout",
     "output_type": "stream",
     "text": [
      "Populating the interactive namespace from numpy and matplotlib\n"
     ]
    }
   ],
   "source": [
    "import pandas as pd\n",
    "import numpy as np\n",
    "import json\n",
    "import seaborn\n",
    "import warnings\n",
    "%pylab inline\n",
    "warnings.filterwarnings('ignore')"
   ]
  },
  {
   "cell_type": "code",
   "execution_count": 25,
   "id": "a35167ad",
   "metadata": {},
   "outputs": [],
   "source": [
    "pd.set_option('display.max_rows', 10)\n",
    "pd.set_option('display.max_columns', None)\n",
    "pd.set_option(\"max_colwidth\", None)"
   ]
  },
  {
   "cell_type": "code",
   "execution_count": 3,
   "id": "2532b9a0",
   "metadata": {},
   "outputs": [],
   "source": [
    "data = pd.read_csv('C:/TZ_GP (2).csv')"
   ]
  },
  {
   "cell_type": "markdown",
   "id": "24a99074",
   "metadata": {},
   "source": [
    "#### Приведение к доступной форме: даты, сериализация json, нумерация всех пользователей (со словарём)"
   ]
  },
  {
   "cell_type": "code",
   "execution_count": 4,
   "id": "8d9d4d9e",
   "metadata": {},
   "outputs": [],
   "source": [
    "from datetime import datetime, timedelta\n",
    "data.client_time = data.client_time.apply(lambda _: datetime.strptime(_,\"%Y-%m-%d %H:%M:%S\"))\n",
    "data.game_status = data.game_status.apply(lambda _: json.loads(_))\n",
    "data.event_data = data.event_data.apply(lambda _: json.loads(_))"
   ]
  },
  {
   "cell_type": "code",
   "execution_count": 5,
   "id": "8408f8ad",
   "metadata": {},
   "outputs": [],
   "source": [
    "userdict = {}\n",
    "for i, value in enumerate(set(data.user_id)):\n",
    "    userdict[value] = i\n",
    "data.user_id = data.user_id.apply(lambda _: userdict[_])"
   ]
  },
  {
   "cell_type": "markdown",
   "id": "d6a80b76",
   "metadata": {},
   "source": [
    "#### Измерение данных производилось за неделю."
   ]
  },
  {
   "cell_type": "code",
   "execution_count": 6,
   "id": "ffd09c94",
   "metadata": {},
   "outputs": [
    {
     "data": {
      "text/plain": [
       "Timedelta('7 days 23:55:28')"
      ]
     },
     "execution_count": 6,
     "metadata": {},
     "output_type": "execute_result"
    }
   ],
   "source": [
    "max(data.client_time) - min(data.client_time)"
   ]
  },
  {
   "cell_type": "markdown",
   "id": "cf3794fa",
   "metadata": {},
   "source": [
    "#### Количество пользователей, установивших приложение за неделю - 452\n",
    "#### Количество уникальных пользователей - 452. То есть все пользователи новые."
   ]
  },
  {
   "cell_type": "code",
   "execution_count": 7,
   "id": "8753113d",
   "metadata": {
    "scrolled": true
   },
   "outputs": [
    {
     "name": "stdout",
     "output_type": "stream",
     "text": [
      "Users:452\n"
     ]
    }
   ],
   "source": [
    "usrcnt=0\n",
    "for i, row in enumerate(data.event_name):\n",
    "    if row == 'appInstall':\n",
    "        #print(data.event_data.iloc[i])\n",
    "        usrcnt+=1\n",
    "print('Users:' + (str(usrcnt)))"
   ]
  },
  {
   "cell_type": "code",
   "execution_count": 8,
   "id": "d945a878",
   "metadata": {
    "scrolled": true
   },
   "outputs": [
    {
     "data": {
      "text/html": [
       "<div>\n",
       "<style scoped>\n",
       "    .dataframe tbody tr th:only-of-type {\n",
       "        vertical-align: middle;\n",
       "    }\n",
       "\n",
       "    .dataframe tbody tr th {\n",
       "        vertical-align: top;\n",
       "    }\n",
       "\n",
       "    .dataframe thead th {\n",
       "        text-align: right;\n",
       "    }\n",
       "</style>\n",
       "<table border=\"1\" class=\"dataframe\">\n",
       "  <thead>\n",
       "    <tr style=\"text-align: right;\">\n",
       "      <th></th>\n",
       "      <th>user_id</th>\n",
       "      <th>media_source</th>\n",
       "      <th>client_time</th>\n",
       "      <th>session_index</th>\n",
       "      <th>game_status</th>\n",
       "      <th>event_name</th>\n",
       "      <th>event_data</th>\n",
       "    </tr>\n",
       "  </thead>\n",
       "  <tbody>\n",
       "    <tr>\n",
       "      <th>0</th>\n",
       "      <td>182</td>\n",
       "      <td>organic</td>\n",
       "      <td>2021-06...</td>\n",
       "      <td>1</td>\n",
       "      <td>{'coin...</td>\n",
       "      <td>appIns...</td>\n",
       "      <td>{'devi...</td>\n",
       "    </tr>\n",
       "    <tr>\n",
       "      <th>1</th>\n",
       "      <td>428</td>\n",
       "      <td>organic</td>\n",
       "      <td>2021-06...</td>\n",
       "      <td>1</td>\n",
       "      <td>{'coin...</td>\n",
       "      <td>appIns...</td>\n",
       "      <td>{'devi...</td>\n",
       "    </tr>\n",
       "    <tr>\n",
       "      <th>2</th>\n",
       "      <td>423</td>\n",
       "      <td>ad-tra...</td>\n",
       "      <td>2021-06...</td>\n",
       "      <td>1</td>\n",
       "      <td>{'coin...</td>\n",
       "      <td>appIns...</td>\n",
       "      <td>{'devi...</td>\n",
       "    </tr>\n",
       "    <tr>\n",
       "      <th>3</th>\n",
       "      <td>194</td>\n",
       "      <td>ad-tra...</td>\n",
       "      <td>2021-06...</td>\n",
       "      <td>1</td>\n",
       "      <td>{'coin...</td>\n",
       "      <td>appIns...</td>\n",
       "      <td>{'devi...</td>\n",
       "    </tr>\n",
       "    <tr>\n",
       "      <th>4</th>\n",
       "      <td>331</td>\n",
       "      <td>organic</td>\n",
       "      <td>2021-06...</td>\n",
       "      <td>1</td>\n",
       "      <td>{'coin...</td>\n",
       "      <td>appIns...</td>\n",
       "      <td>{'devi...</td>\n",
       "    </tr>\n",
       "  </tbody>\n",
       "</table>\n",
       "</div>"
      ],
      "text/plain": [
       "   user_id media_source client_time  session_index game_status event_name  \\\n",
       "0      182    organic   2021-06...           1      {'coin...   appIns...   \n",
       "1      428    organic   2021-06...           1      {'coin...   appIns...   \n",
       "2      423  ad-tra...   2021-06...           1      {'coin...   appIns...   \n",
       "3      194  ad-tra...   2021-06...           1      {'coin...   appIns...   \n",
       "4      331    organic   2021-06...           1      {'coin...   appIns...   \n",
       "\n",
       "  event_data  \n",
       "0  {'devi...  \n",
       "1  {'devi...  \n",
       "2  {'devi...  \n",
       "3  {'devi...  \n",
       "4  {'devi...  "
      ]
     },
     "execution_count": 8,
     "metadata": {},
     "output_type": "execute_result"
    }
   ],
   "source": [
    "data.head()"
   ]
  },
  {
   "cell_type": "markdown",
   "id": "4d6002a4",
   "metadata": {},
   "source": [
    "### Вывод всех транзакций"
   ]
  },
  {
   "cell_type": "code",
   "execution_count": 9,
   "id": "b010e9df",
   "metadata": {},
   "outputs": [],
   "source": [
    "from collections import defaultdict\n",
    "# Вывод всех экземпляров json-элемента из event_data\n",
    "def view_data(column, Frame):\n",
    "    my_list = Frame.event_data.values\n",
    "    my_dict_list = defaultdict(list)\n",
    "    for value in my_list:\n",
    "        for k,v in value.items():\n",
    "            my_dict_list[k].append(v)\n",
    "    return(my_dict_list[column])"
   ]
  },
  {
   "cell_type": "code",
   "execution_count": 10,
   "id": "14af5e8e",
   "metadata": {},
   "outputs": [],
   "source": [
    "# Вывод всех экземпляров json-элемента column из event_data для каждого пользователя из DataFrame Frame\n",
    "def view_user_data(column, Frame):\n",
    "    my_list = Frame.event_data.values\n",
    "    my_dict_list = defaultdict(list)\n",
    "    for value in my_list:\n",
    "        for k,v in value.items():\n",
    "            my_dict_list[k].append(v)\n",
    "    newColumn = pd.Series(my_dict_list[column])\n",
    "    newFrame = Frame.copy()\n",
    "    newFrame[column] = newColumn.values\n",
    "    return(newFrame[['user_id',column]])"
   ]
  },
  {
   "cell_type": "code",
   "execution_count": 11,
   "id": "4d98a721",
   "metadata": {
    "scrolled": true
   },
   "outputs": [
    {
     "data": {
      "text/html": [
       "<div>\n",
       "<style scoped>\n",
       "    .dataframe tbody tr th:only-of-type {\n",
       "        vertical-align: middle;\n",
       "    }\n",
       "\n",
       "    .dataframe tbody tr th {\n",
       "        vertical-align: top;\n",
       "    }\n",
       "\n",
       "    .dataframe thead th {\n",
       "        text-align: right;\n",
       "    }\n",
       "</style>\n",
       "<table border=\"1\" class=\"dataframe\">\n",
       "  <thead>\n",
       "    <tr style=\"text-align: right;\">\n",
       "      <th></th>\n",
       "      <th>user_id</th>\n",
       "      <th>usdProceed</th>\n",
       "    </tr>\n",
       "  </thead>\n",
       "  <tbody>\n",
       "    <tr>\n",
       "      <th>396062</th>\n",
       "      <td>154.0</td>\n",
       "      <td>5.243000</td>\n",
       "    </tr>\n",
       "    <tr>\n",
       "      <th>396063</th>\n",
       "      <td>22.0</td>\n",
       "      <td>1.391999</td>\n",
       "    </tr>\n",
       "    <tr>\n",
       "      <th>396064</th>\n",
       "      <td>22.0</td>\n",
       "      <td>1.391999</td>\n",
       "    </tr>\n",
       "    <tr>\n",
       "      <th>396065</th>\n",
       "      <td>256.0</td>\n",
       "      <td>5.243000</td>\n",
       "    </tr>\n",
       "    <tr>\n",
       "      <th>396066</th>\n",
       "      <td>264.0</td>\n",
       "      <td>5.243000</td>\n",
       "    </tr>\n",
       "    <tr>\n",
       "      <th>...</th>\n",
       "      <td>...</td>\n",
       "      <td>...</td>\n",
       "    </tr>\n",
       "    <tr>\n",
       "      <th>396094</th>\n",
       "      <td>401.0</td>\n",
       "      <td>68.176809</td>\n",
       "    </tr>\n",
       "    <tr>\n",
       "      <th>396095</th>\n",
       "      <td>401.0</td>\n",
       "      <td>6.810010</td>\n",
       "    </tr>\n",
       "    <tr>\n",
       "      <th>396096</th>\n",
       "      <td>401.0</td>\n",
       "      <td>13.628543</td>\n",
       "    </tr>\n",
       "    <tr>\n",
       "      <th>396097</th>\n",
       "      <td>304.0</td>\n",
       "      <td>1.393000</td>\n",
       "    </tr>\n",
       "    <tr>\n",
       "      <th>396098</th>\n",
       "      <td>30.0</td>\n",
       "      <td>1.391999</td>\n",
       "    </tr>\n",
       "  </tbody>\n",
       "</table>\n",
       "<p>37 rows × 2 columns</p>\n",
       "</div>"
      ],
      "text/plain": [
       "        user_id  usdProceed\n",
       "396062    154.0   5.243000 \n",
       "396063     22.0   1.391999 \n",
       "396064     22.0   1.391999 \n",
       "396065    256.0   5.243000 \n",
       "396066    264.0   5.243000 \n",
       "...         ...        ... \n",
       "396094    401.0  68.176809 \n",
       "396095    401.0   6.810010 \n",
       "396096    401.0  13.628543 \n",
       "396097    304.0   1.393000 \n",
       "396098     30.0   1.391999 \n",
       "\n",
       "[37 rows x 2 columns]"
      ]
     },
     "execution_count": 11,
     "metadata": {},
     "output_type": "execute_result"
    }
   ],
   "source": [
    "usdFrame = view_user_data('usdProceed', data.where(data.event_name == 'transactionComplete').dropna(how='all'))\n",
    "usdFrame"
   ]
  },
  {
   "cell_type": "markdown",
   "id": "506d724c",
   "metadata": {},
   "source": [
    "#### Максимальный донат 68 долларов"
   ]
  },
  {
   "cell_type": "code",
   "execution_count": 12,
   "id": "083b1e42",
   "metadata": {
    "scrolled": true
   },
   "outputs": [
    {
     "data": {
      "text/plain": [
       "68.1768094378241"
      ]
     },
     "execution_count": 12,
     "metadata": {},
     "output_type": "execute_result"
    }
   ],
   "source": [
    "transactions = data.where(data.event_name == 'transactionComplete').dropna(how='all')[['user_id','event_data']]\n",
    "max(view_data('usdProceed',transactions))"
   ]
  },
  {
   "cell_type": "markdown",
   "id": "8b558657",
   "metadata": {},
   "source": [
    "## Получено 478.49 USD за неделю, из них 56,57 USD с рекламы"
   ]
  },
  {
   "cell_type": "code",
   "execution_count": 13,
   "id": "03666556",
   "metadata": {
    "scrolled": true
   },
   "outputs": [
    {
     "data": {
      "text/plain": [
       "478.4979987325356"
      ]
     },
     "execution_count": 13,
     "metadata": {},
     "output_type": "execute_result"
    }
   ],
   "source": [
    "sum(view_data('usdProceed',\n",
    "              data.where(data.event_name == 'transactionComplete').dropna(how='all')))"
   ]
  },
  {
   "cell_type": "code",
   "execution_count": 14,
   "id": "2d08f27c",
   "metadata": {},
   "outputs": [
    {
     "data": {
      "text/plain": [
       "56.5762952652839"
      ]
     },
     "execution_count": 14,
     "metadata": {},
     "output_type": "execute_result"
    }
   ],
   "source": [
    "sum(view_data('usdProceed',\n",
    "              data.where(data.event_name == 'transactionComplete').\n",
    "              where(data.media_source=='ad-traffic').dropna(how='all')))"
   ]
  },
  {
   "cell_type": "markdown",
   "id": "1aec575e",
   "metadata": {},
   "source": [
    "## Донатило 12 пользователей, из них 7 с рекламы"
   ]
  },
  {
   "cell_type": "code",
   "execution_count": 15,
   "id": "4800216f",
   "metadata": {},
   "outputs": [
    {
     "data": {
      "text/plain": [
       "12"
      ]
     },
     "execution_count": 15,
     "metadata": {},
     "output_type": "execute_result"
    }
   ],
   "source": [
    "len(set(data.where(data.event_name == 'transactionComplete').dropna(how='all').sort_values('user_id').user_id.values))"
   ]
  },
  {
   "cell_type": "code",
   "execution_count": 16,
   "id": "fa2006c4",
   "metadata": {
    "scrolled": true
   },
   "outputs": [
    {
     "data": {
      "text/plain": [
       "7"
      ]
     },
     "execution_count": 16,
     "metadata": {},
     "output_type": "execute_result"
    }
   ],
   "source": [
    "len(set(data.where(data.event_name == 'transactionComplete').where(data.media_source=='ad-traffic').dropna(how='all').sort_values('user_id').user_id.values))"
   ]
  },
  {
   "cell_type": "markdown",
   "id": "f19e4354",
   "metadata": {},
   "source": [
    "## Анализ обучения пользователей"
   ]
  },
  {
   "cell_type": "markdown",
   "id": "d4130064",
   "metadata": {},
   "source": [
    "LearningArray - массив из датафреймов пользователей до прохождения первой грядки. AllLearnedArray такой же, но в нём присутствуют необученные пользователи.\n",
    "unlearned - индексы необученных пользователей. \n",
    "learned - индексы пользователей, прошедших обучение. \n",
    "UnlearnedArray - массив из датафреймов только необученных пользователей. \n",
    "LearnedArray - массив из датафреймов только обученных пользователей. \n",
    "UserArray - разбиение исходного датасета по каждому пользователю."
   ]
  },
  {
   "cell_type": "code",
   "execution_count": 17,
   "id": "9386bc65",
   "metadata": {
    "scrolled": false
   },
   "outputs": [],
   "source": [
    "def LearningCutter(user_id):\n",
    "    for i, value in enumerate(data.where(data.user_id == user_id).dropna(how='all').sort_values('client_time').event_name):\n",
    "        if value == 'gladeComplete':\n",
    "            UserFrame = data.where(data.user_id == user_id).dropna(how='all').sort_values('client_time').iloc[0:i+1]\n",
    "            return UserFrame"
   ]
  },
  {
   "cell_type": "code",
   "execution_count": 18,
   "id": "5afa51a9",
   "metadata": {
    "scrolled": false
   },
   "outputs": [],
   "source": [
    "LearningArray = []\n",
    "for x in range(0,usrcnt):\n",
    "    LearningArray.append(LearningCutter(x))"
   ]
  },
  {
   "cell_type": "code",
   "execution_count": 19,
   "id": "3b30fb0a",
   "metadata": {},
   "outputs": [],
   "source": [
    "unlearned = []\n",
    "learned = []\n",
    "for i, value in enumerate(LearningArray):\n",
    "    if value is None:\n",
    "        unlearned.append(i)\n",
    "    else:\n",
    "        learned.append(i)"
   ]
  },
  {
   "cell_type": "code",
   "execution_count": 20,
   "id": "db0758ed",
   "metadata": {},
   "outputs": [],
   "source": [
    "AllLearnedArray = LearningArray.copy()\n",
    "for i in (unlearned):\n",
    "    AllLearnedArray[i]=data.where(data.user_id==i).dropna(how='all').sort_values('client_time')    \n",
    "LearningArray = [x for x in LearningArray if (x is not None)]"
   ]
  },
  {
   "cell_type": "code",
   "execution_count": 21,
   "id": "0b5db9ab",
   "metadata": {},
   "outputs": [],
   "source": [
    "UserArray = []\n",
    "for x in range(0,usrcnt):\n",
    "    UserArray.append(data.where(data.user_id == x).dropna(how='all').sort_values('client_time'))"
   ]
  },
  {
   "cell_type": "code",
   "execution_count": 22,
   "id": "190d37ba",
   "metadata": {},
   "outputs": [],
   "source": [
    "UnlearnedArray = []\n",
    "for i in (unlearned):\n",
    "    UnlearnedArray.append(data.where(data.user_id==i).dropna(how='all').sort_values('client_time'))"
   ]
  },
  {
   "cell_type": "code",
   "execution_count": 23,
   "id": "2d6a6cc8",
   "metadata": {},
   "outputs": [],
   "source": [
    "LearnedArray = []\n",
    "for i in (learned):\n",
    "    LearnedArray.append(data.where(data.user_id==i).dropna(how='all').sort_values('client_time'))"
   ]
  },
  {
   "cell_type": "code",
   "execution_count": 24,
   "id": "24cc6eb3",
   "metadata": {},
   "outputs": [],
   "source": [
    "UnlearnedTime = []\n",
    "for user in UnlearnedArray:\n",
    "    UnlearnedTime.append(user.client_time.iloc[-1]-user.client_time.iloc[0])"
   ]
  },
  {
   "cell_type": "markdown",
   "id": "7b6523ee",
   "metadata": {},
   "source": [
    "#### Длины датафреймов массивов: UnlearnedArray + LearningArray = AllLearnedArray < LearnedArray  < UserArray"
   ]
  },
  {
   "cell_type": "code",
   "execution_count": 26,
   "id": "3842fdbd",
   "metadata": {},
   "outputs": [
    {
     "data": {
      "text/html": [
       "<div>\n",
       "<style scoped>\n",
       "    .dataframe tbody tr th:only-of-type {\n",
       "        vertical-align: middle;\n",
       "    }\n",
       "\n",
       "    .dataframe tbody tr th {\n",
       "        vertical-align: top;\n",
       "    }\n",
       "\n",
       "    .dataframe thead th {\n",
       "        text-align: right;\n",
       "    }\n",
       "</style>\n",
       "<table border=\"1\" class=\"dataframe\">\n",
       "  <thead>\n",
       "    <tr style=\"text-align: right;\">\n",
       "      <th></th>\n",
       "      <th>user_id</th>\n",
       "      <th>media_source</th>\n",
       "      <th>client_time</th>\n",
       "      <th>session_index</th>\n",
       "      <th>game_status</th>\n",
       "      <th>event_name</th>\n",
       "      <th>event_data</th>\n",
       "    </tr>\n",
       "  </thead>\n",
       "  <tbody>\n",
       "    <tr>\n",
       "      <th>56</th>\n",
       "      <td>0.0</td>\n",
       "      <td>ad-traffic</td>\n",
       "      <td>2021-06-05 03:38:22</td>\n",
       "      <td>1.0</td>\n",
       "      <td>{'coins': 0, 'freeRounds': 0, 'freeUndo': 0, 'freeWildCard': 0, 'freeAddCards': 0, 'level': 0, 'map': 1, 'bet': 1, 'gladeId': 1, 'league': 0}</td>\n",
       "      <td>appInstall</td>\n",
       "      <td>{'device': 'motorola moto e(6) plus', 'graphicMemory': 512, 'systemMemory': 1849}</td>\n",
       "    </tr>\n",
       "    <tr>\n",
       "      <th>4804</th>\n",
       "      <td>0.0</td>\n",
       "      <td>ad-traffic</td>\n",
       "      <td>2021-06-05 03:38:50</td>\n",
       "      <td>1.0</td>\n",
       "      <td>{'coins': 0, 'freeRounds': 0, 'freeUndo': 3, 'freeWildCard': 0, 'freeAddCards': 0, 'level': 0, 'map': 1, 'bet': 1, 'gladeId': 1, 'league': 0}</td>\n",
       "      <td>getBooster</td>\n",
       "      <td>{'type': 'freeUndo', 'from': 'FirstGift', 'amount': 3}</td>\n",
       "    </tr>\n",
       "    <tr>\n",
       "      <th>4805</th>\n",
       "      <td>0.0</td>\n",
       "      <td>ad-traffic</td>\n",
       "      <td>2021-06-05 03:38:50</td>\n",
       "      <td>1.0</td>\n",
       "      <td>{'coins': 0, 'freeRounds': 0, 'freeUndo': 3, 'freeWildCard': 0, 'freeAddCards': 3, 'level': 0, 'map': 1, 'bet': 1, 'gladeId': 1, 'league': 0}</td>\n",
       "      <td>getBooster</td>\n",
       "      <td>{'type': 'freeExtraCards', 'from': 'FirstGift', 'amount': 3}</td>\n",
       "    </tr>\n",
       "    <tr>\n",
       "      <th>4806</th>\n",
       "      <td>0.0</td>\n",
       "      <td>ad-traffic</td>\n",
       "      <td>2021-06-05 03:38:50</td>\n",
       "      <td>1.0</td>\n",
       "      <td>{'coins': 0, 'freeRounds': 0, 'freeUndo': 3, 'freeWildCard': 3, 'freeAddCards': 3, 'level': 0, 'map': 1, 'bet': 1, 'gladeId': 1, 'league': 0}</td>\n",
       "      <td>getBooster</td>\n",
       "      <td>{'type': 'freeWildCard', 'from': 'FirstGift', 'amount': 3}</td>\n",
       "    </tr>\n",
       "    <tr>\n",
       "      <th>342108</th>\n",
       "      <td>0.0</td>\n",
       "      <td>ad-traffic</td>\n",
       "      <td>2021-06-05 03:38:51</td>\n",
       "      <td>1.0</td>\n",
       "      <td>{'coins': 5000, 'freeRounds': 0, 'freeUndo': 3, 'freeWildCard': 3, 'freeAddCards': 3, 'level': 1, 'map': 1, 'bet': 1, 'gladeId': 1, 'league': 0, 'gameType': 0}</td>\n",
       "      <td>levelStart</td>\n",
       "      <td>{'retry': False, 'level': 1, 'levelLoop': 1, 'gameType': 0, 'price': 1000, 'cardsInHand': 15, 'baseLuckyIndex': 0, 'targetGoldIndex': 0, 'targetCoins': 0, 'totalLuckyIndex': 0, 'prediction': 'Default'}</td>\n",
       "    </tr>\n",
       "    <tr>\n",
       "      <th>...</th>\n",
       "      <td>...</td>\n",
       "      <td>...</td>\n",
       "      <td>...</td>\n",
       "      <td>...</td>\n",
       "      <td>...</td>\n",
       "      <td>...</td>\n",
       "      <td>...</td>\n",
       "    </tr>\n",
       "    <tr>\n",
       "      <th>332790</th>\n",
       "      <td>0.0</td>\n",
       "      <td>ad-traffic</td>\n",
       "      <td>2021-06-07 09:11:48</td>\n",
       "      <td>3.0</td>\n",
       "      <td>{'coins': 6531, 'freeRounds': 0, 'freeUndo': 0, 'freeWildCard': 5, 'freeAddCards': 0, 'level': 51, 'map': 1, 'bet': 2, 'gladeId': 3, 'league': 0, 'gameType': 0}</td>\n",
       "      <td>learning</td>\n",
       "      <td>{'name': 'CRUISE_NEXT_CARD', 'level': 19}</td>\n",
       "    </tr>\n",
       "    <tr>\n",
       "      <th>375814</th>\n",
       "      <td>0.0</td>\n",
       "      <td>ad-traffic</td>\n",
       "      <td>2021-06-07 09:11:55</td>\n",
       "      <td>3.0</td>\n",
       "      <td>{'coins': 2531, 'freeRounds': 0, 'freeUndo': 0, 'freeWildCard': 5, 'freeAddCards': 0, 'level': 51, 'map': 1, 'bet': 2, 'gladeId': 3, 'league': 0, 'gameType': 0}</td>\n",
       "      <td>getCoins</td>\n",
       "      <td>{'amount': -4000, 'from': 'UndoDropCard'}</td>\n",
       "    </tr>\n",
       "    <tr>\n",
       "      <th>332791</th>\n",
       "      <td>0.0</td>\n",
       "      <td>ad-traffic</td>\n",
       "      <td>2021-06-07 09:11:57</td>\n",
       "      <td>3.0</td>\n",
       "      <td>{'coins': 2531, 'freeRounds': 0, 'freeUndo': 0, 'freeWildCard': 5, 'freeAddCards': 0, 'level': 51, 'map': 1, 'bet': 2, 'gladeId': 3, 'league': 0, 'gameType': 0}</td>\n",
       "      <td>learning</td>\n",
       "      <td>{'name': 'CRUISE_NEXT_CARD', 'level': 19}</td>\n",
       "    </tr>\n",
       "    <tr>\n",
       "      <th>55518</th>\n",
       "      <td>0.0</td>\n",
       "      <td>ad-traffic</td>\n",
       "      <td>2021-06-07 09:12:23</td>\n",
       "      <td>3.0</td>\n",
       "      <td>{'coins': 2531, 'freeRounds': 0, 'freeUndo': 0, 'freeWildCard': 4, 'freeAddCards': 0, 'level': 51, 'map': 1, 'bet': 2, 'gladeId': 3, 'league': 0, 'gameType': 0}</td>\n",
       "      <td>getBooster</td>\n",
       "      <td>{'type': 'freeWildCard', 'from': 'UseInGame', 'amount': -1}</td>\n",
       "    </tr>\n",
       "    <tr>\n",
       "      <th>332792</th>\n",
       "      <td>0.0</td>\n",
       "      <td>ad-traffic</td>\n",
       "      <td>2021-06-07 09:12:25</td>\n",
       "      <td>3.0</td>\n",
       "      <td>{'coins': 2531, 'freeRounds': 0, 'freeUndo': 0, 'freeWildCard': 4, 'freeAddCards': 0, 'level': 51, 'map': 1, 'bet': 2, 'gladeId': 3, 'league': 0, 'gameType': 0}</td>\n",
       "      <td>learning</td>\n",
       "      <td>{'name': 'CRUISE_NEXT_CARD', 'level': 19}</td>\n",
       "    </tr>\n",
       "  </tbody>\n",
       "</table>\n",
       "<p>760 rows × 7 columns</p>\n",
       "</div>"
      ],
      "text/plain": [
       "        user_id media_source         client_time  session_index  \\\n",
       "56          0.0   ad-traffic 2021-06-05 03:38:22            1.0   \n",
       "4804        0.0   ad-traffic 2021-06-05 03:38:50            1.0   \n",
       "4805        0.0   ad-traffic 2021-06-05 03:38:50            1.0   \n",
       "4806        0.0   ad-traffic 2021-06-05 03:38:50            1.0   \n",
       "342108      0.0   ad-traffic 2021-06-05 03:38:51            1.0   \n",
       "...         ...          ...                 ...            ...   \n",
       "332790      0.0   ad-traffic 2021-06-07 09:11:48            3.0   \n",
       "375814      0.0   ad-traffic 2021-06-07 09:11:55            3.0   \n",
       "332791      0.0   ad-traffic 2021-06-07 09:11:57            3.0   \n",
       "55518       0.0   ad-traffic 2021-06-07 09:12:23            3.0   \n",
       "332792      0.0   ad-traffic 2021-06-07 09:12:25            3.0   \n",
       "\n",
       "                                                                                                                                                             game_status  \\\n",
       "56                         {'coins': 0, 'freeRounds': 0, 'freeUndo': 0, 'freeWildCard': 0, 'freeAddCards': 0, 'level': 0, 'map': 1, 'bet': 1, 'gladeId': 1, 'league': 0}   \n",
       "4804                       {'coins': 0, 'freeRounds': 0, 'freeUndo': 3, 'freeWildCard': 0, 'freeAddCards': 0, 'level': 0, 'map': 1, 'bet': 1, 'gladeId': 1, 'league': 0}   \n",
       "4805                       {'coins': 0, 'freeRounds': 0, 'freeUndo': 3, 'freeWildCard': 0, 'freeAddCards': 3, 'level': 0, 'map': 1, 'bet': 1, 'gladeId': 1, 'league': 0}   \n",
       "4806                       {'coins': 0, 'freeRounds': 0, 'freeUndo': 3, 'freeWildCard': 3, 'freeAddCards': 3, 'level': 0, 'map': 1, 'bet': 1, 'gladeId': 1, 'league': 0}   \n",
       "342108   {'coins': 5000, 'freeRounds': 0, 'freeUndo': 3, 'freeWildCard': 3, 'freeAddCards': 3, 'level': 1, 'map': 1, 'bet': 1, 'gladeId': 1, 'league': 0, 'gameType': 0}   \n",
       "...                                                                                                                                                                  ...   \n",
       "332790  {'coins': 6531, 'freeRounds': 0, 'freeUndo': 0, 'freeWildCard': 5, 'freeAddCards': 0, 'level': 51, 'map': 1, 'bet': 2, 'gladeId': 3, 'league': 0, 'gameType': 0}   \n",
       "375814  {'coins': 2531, 'freeRounds': 0, 'freeUndo': 0, 'freeWildCard': 5, 'freeAddCards': 0, 'level': 51, 'map': 1, 'bet': 2, 'gladeId': 3, 'league': 0, 'gameType': 0}   \n",
       "332791  {'coins': 2531, 'freeRounds': 0, 'freeUndo': 0, 'freeWildCard': 5, 'freeAddCards': 0, 'level': 51, 'map': 1, 'bet': 2, 'gladeId': 3, 'league': 0, 'gameType': 0}   \n",
       "55518   {'coins': 2531, 'freeRounds': 0, 'freeUndo': 0, 'freeWildCard': 4, 'freeAddCards': 0, 'level': 51, 'map': 1, 'bet': 2, 'gladeId': 3, 'league': 0, 'gameType': 0}   \n",
       "332792  {'coins': 2531, 'freeRounds': 0, 'freeUndo': 0, 'freeWildCard': 4, 'freeAddCards': 0, 'level': 51, 'map': 1, 'bet': 2, 'gladeId': 3, 'league': 0, 'gameType': 0}   \n",
       "\n",
       "        event_name  \\\n",
       "56      appInstall   \n",
       "4804    getBooster   \n",
       "4805    getBooster   \n",
       "4806    getBooster   \n",
       "342108  levelStart   \n",
       "...            ...   \n",
       "332790    learning   \n",
       "375814    getCoins   \n",
       "332791    learning   \n",
       "55518   getBooster   \n",
       "332792    learning   \n",
       "\n",
       "                                                                                                                                                                                                       event_data  \n",
       "56                                                                                                                              {'device': 'motorola moto e(6) plus', 'graphicMemory': 512, 'systemMemory': 1849}  \n",
       "4804                                                                                                                                                       {'type': 'freeUndo', 'from': 'FirstGift', 'amount': 3}  \n",
       "4805                                                                                                                                                 {'type': 'freeExtraCards', 'from': 'FirstGift', 'amount': 3}  \n",
       "4806                                                                                                                                                   {'type': 'freeWildCard', 'from': 'FirstGift', 'amount': 3}  \n",
       "342108  {'retry': False, 'level': 1, 'levelLoop': 1, 'gameType': 0, 'price': 1000, 'cardsInHand': 15, 'baseLuckyIndex': 0, 'targetGoldIndex': 0, 'targetCoins': 0, 'totalLuckyIndex': 0, 'prediction': 'Default'}  \n",
       "...                                                                                                                                                                                                           ...  \n",
       "332790                                                                                                                                                                  {'name': 'CRUISE_NEXT_CARD', 'level': 19}  \n",
       "375814                                                                                                                                                                  {'amount': -4000, 'from': 'UndoDropCard'}  \n",
       "332791                                                                                                                                                                  {'name': 'CRUISE_NEXT_CARD', 'level': 19}  \n",
       "55518                                                                                                                                                 {'type': 'freeWildCard', 'from': 'UseInGame', 'amount': -1}  \n",
       "332792                                                                                                                                                                  {'name': 'CRUISE_NEXT_CARD', 'level': 19}  \n",
       "\n",
       "[760 rows x 7 columns]"
      ]
     },
     "execution_count": 26,
     "metadata": {},
     "output_type": "execute_result"
    }
   ],
   "source": [
    "UserArray[0]"
   ]
  },
  {
   "cell_type": "markdown",
   "id": "35881d0a",
   "metadata": {},
   "source": [
    "### 35% игроков не прошли обучение"
   ]
  },
  {
   "cell_type": "code",
   "execution_count": 27,
   "id": "9968d14b",
   "metadata": {
    "scrolled": true
   },
   "outputs": [
    {
     "data": {
      "text/plain": [
       "0.35398230088495575"
      ]
     },
     "execution_count": 27,
     "metadata": {},
     "output_type": "execute_result"
    }
   ],
   "source": [
    "len(unlearned)/(len(learned)+len(unlearned))"
   ]
  },
  {
   "cell_type": "code",
   "execution_count": 28,
   "id": "cfae1a1d",
   "metadata": {},
   "outputs": [],
   "source": [
    "def InGameTimeCalculation(user_id, Array):\n",
    "    time= timedelta(0)\n",
    "    for i in set(Array[user_id].session_index.values):\n",
    "        time+=Array[user_id].where(Array[user_id].session_index==i).dropna(how='all').sort_values('client_time').iloc[-1].client_time-Array[user_id].where(Array[user_id].session_index==i).dropna(how='all').sort_values('client_time').iloc[0].client_time\n",
    "    return time"
   ]
  },
  {
   "cell_type": "code",
   "execution_count": 29,
   "id": "2aa68110",
   "metadata": {
    "scrolled": true
   },
   "outputs": [],
   "source": [
    "ans = []\n",
    "for value in unlearned:\n",
    "    ans.append(InGameTimeCalculation(value, UserArray))"
   ]
  },
  {
   "cell_type": "markdown",
   "id": "3d38b9b3",
   "metadata": {},
   "source": [
    "#### 5 пользователей (вылетело) вышли сразу после запуска."
   ]
  },
  {
   "cell_type": "code",
   "execution_count": 30,
   "id": "6e96756f",
   "metadata": {
    "scrolled": false
   },
   "outputs": [
    {
     "name": "stdout",
     "output_type": "stream",
     "text": [
      "20\n",
      "133\n",
      "167\n",
      "303\n",
      "320\n"
     ]
    }
   ],
   "source": [
    "for i, value in enumerate(numpy.array(ans)):\n",
    "    if value == timedelta(0,0,0):\n",
    "        print(unlearned[i])"
   ]
  },
  {
   "cell_type": "code",
   "execution_count": 31,
   "id": "509013cc",
   "metadata": {},
   "outputs": [
    {
     "data": {
      "text/html": [
       "<div>\n",
       "<style scoped>\n",
       "    .dataframe tbody tr th:only-of-type {\n",
       "        vertical-align: middle;\n",
       "    }\n",
       "\n",
       "    .dataframe tbody tr th {\n",
       "        vertical-align: top;\n",
       "    }\n",
       "\n",
       "    .dataframe thead th {\n",
       "        text-align: right;\n",
       "    }\n",
       "</style>\n",
       "<table border=\"1\" class=\"dataframe\">\n",
       "  <thead>\n",
       "    <tr style=\"text-align: right;\">\n",
       "      <th></th>\n",
       "      <th>user_id</th>\n",
       "      <th>media_source</th>\n",
       "      <th>client_time</th>\n",
       "      <th>session_index</th>\n",
       "      <th>game_status</th>\n",
       "      <th>event_name</th>\n",
       "      <th>event_data</th>\n",
       "    </tr>\n",
       "  </thead>\n",
       "  <tbody>\n",
       "    <tr>\n",
       "      <th>337</th>\n",
       "      <td>20.0</td>\n",
       "      <td>organic</td>\n",
       "      <td>2021-06-05 16:47:02</td>\n",
       "      <td>1.0</td>\n",
       "      <td>{'coins': 0, 'freeRounds': 0, 'freeUndo': 0, 'freeWildCard': 0, 'freeAddCards': 0, 'level': 0, 'map': 1, 'bet': 1, 'gladeId': 1, 'league': 0, 'VIPPointsAmount': 0, 'VIPStatus': 0}</td>\n",
       "      <td>appInstall</td>\n",
       "      <td>{'device': 'HUAWEI MAR-LX1B', 'graphicMemory': 2048, 'systemMemory': 5722}</td>\n",
       "    </tr>\n",
       "    <tr>\n",
       "      <th>24261</th>\n",
       "      <td>20.0</td>\n",
       "      <td>organic</td>\n",
       "      <td>2021-06-05 16:47:02</td>\n",
       "      <td>1.0</td>\n",
       "      <td>{'coins': 0, 'freeRounds': 0, 'freeUndo': 3, 'freeWildCard': 0, 'freeAddCards': 0, 'level': 0, 'map': 1, 'bet': 1, 'gladeId': 1, 'league': 0, 'VIPPointsAmount': 0, 'VIPStatus': 0}</td>\n",
       "      <td>getBooster</td>\n",
       "      <td>{'type': 'freeUndo', 'from': 'FirstGift', 'amount': 3}</td>\n",
       "    </tr>\n",
       "    <tr>\n",
       "      <th>24262</th>\n",
       "      <td>20.0</td>\n",
       "      <td>organic</td>\n",
       "      <td>2021-06-05 16:47:02</td>\n",
       "      <td>1.0</td>\n",
       "      <td>{'coins': 0, 'freeRounds': 0, 'freeUndo': 3, 'freeWildCard': 3, 'freeAddCards': 3, 'level': 0, 'map': 1, 'bet': 1, 'gladeId': 1, 'league': 0, 'VIPPointsAmount': 0, 'VIPStatus': 0}</td>\n",
       "      <td>getBooster</td>\n",
       "      <td>{'type': 'freeWildCard', 'from': 'FirstGift', 'amount': 3}</td>\n",
       "    </tr>\n",
       "    <tr>\n",
       "      <th>24263</th>\n",
       "      <td>20.0</td>\n",
       "      <td>organic</td>\n",
       "      <td>2021-06-05 16:47:02</td>\n",
       "      <td>1.0</td>\n",
       "      <td>{'coins': 0, 'freeRounds': 0, 'freeUndo': 3, 'freeWildCard': 0, 'freeAddCards': 3, 'level': 0, 'map': 1, 'bet': 1, 'gladeId': 1, 'league': 0, 'VIPPointsAmount': 0, 'VIPStatus': 0}</td>\n",
       "      <td>getBooster</td>\n",
       "      <td>{'type': 'freeExtraCards', 'from': 'FirstGift', 'amount': 3}</td>\n",
       "    </tr>\n",
       "    <tr>\n",
       "      <th>361685</th>\n",
       "      <td>20.0</td>\n",
       "      <td>organic</td>\n",
       "      <td>2021-06-05 16:47:02</td>\n",
       "      <td>1.0</td>\n",
       "      <td>{'coins': 5000, 'freeRounds': 0, 'freeUndo': 3, 'freeWildCard': 3, 'freeAddCards': 3, 'level': 1, 'map': 1, 'bet': 1, 'gladeId': 1, 'league': 0, 'gameType': 0, 'VIPPointsAmount': 0, 'VIPStatus': 0}</td>\n",
       "      <td>levelStart</td>\n",
       "      <td>{'retry': False, 'level': 1, 'levelLoop': 1, 'gameType': 0, 'VIPStatus': 0, 'price': 1000, 'cardsInHand': 15, 'baseLuckyIndex': 0, 'targetGoldIndex': 0, 'targetCoins': 0, 'totalLuckyIndex': 0, 'prediction': 'Default'}</td>\n",
       "    </tr>\n",
       "  </tbody>\n",
       "</table>\n",
       "</div>"
      ],
      "text/plain": [
       "        user_id media_source         client_time  session_index  \\\n",
       "337        20.0      organic 2021-06-05 16:47:02            1.0   \n",
       "24261      20.0      organic 2021-06-05 16:47:02            1.0   \n",
       "24262      20.0      organic 2021-06-05 16:47:02            1.0   \n",
       "24263      20.0      organic 2021-06-05 16:47:02            1.0   \n",
       "361685     20.0      organic 2021-06-05 16:47:02            1.0   \n",
       "\n",
       "                                                                                                                                                                                                  game_status  \\\n",
       "337                       {'coins': 0, 'freeRounds': 0, 'freeUndo': 0, 'freeWildCard': 0, 'freeAddCards': 0, 'level': 0, 'map': 1, 'bet': 1, 'gladeId': 1, 'league': 0, 'VIPPointsAmount': 0, 'VIPStatus': 0}   \n",
       "24261                     {'coins': 0, 'freeRounds': 0, 'freeUndo': 3, 'freeWildCard': 0, 'freeAddCards': 0, 'level': 0, 'map': 1, 'bet': 1, 'gladeId': 1, 'league': 0, 'VIPPointsAmount': 0, 'VIPStatus': 0}   \n",
       "24262                     {'coins': 0, 'freeRounds': 0, 'freeUndo': 3, 'freeWildCard': 3, 'freeAddCards': 3, 'level': 0, 'map': 1, 'bet': 1, 'gladeId': 1, 'league': 0, 'VIPPointsAmount': 0, 'VIPStatus': 0}   \n",
       "24263                     {'coins': 0, 'freeRounds': 0, 'freeUndo': 3, 'freeWildCard': 0, 'freeAddCards': 3, 'level': 0, 'map': 1, 'bet': 1, 'gladeId': 1, 'league': 0, 'VIPPointsAmount': 0, 'VIPStatus': 0}   \n",
       "361685  {'coins': 5000, 'freeRounds': 0, 'freeUndo': 3, 'freeWildCard': 3, 'freeAddCards': 3, 'level': 1, 'map': 1, 'bet': 1, 'gladeId': 1, 'league': 0, 'gameType': 0, 'VIPPointsAmount': 0, 'VIPStatus': 0}   \n",
       "\n",
       "        event_name  \\\n",
       "337     appInstall   \n",
       "24261   getBooster   \n",
       "24262   getBooster   \n",
       "24263   getBooster   \n",
       "361685  levelStart   \n",
       "\n",
       "                                                                                                                                                                                                                       event_data  \n",
       "337                                                                                                                                                    {'device': 'HUAWEI MAR-LX1B', 'graphicMemory': 2048, 'systemMemory': 5722}  \n",
       "24261                                                                                                                                                                      {'type': 'freeUndo', 'from': 'FirstGift', 'amount': 3}  \n",
       "24262                                                                                                                                                                  {'type': 'freeWildCard', 'from': 'FirstGift', 'amount': 3}  \n",
       "24263                                                                                                                                                                {'type': 'freeExtraCards', 'from': 'FirstGift', 'amount': 3}  \n",
       "361685  {'retry': False, 'level': 1, 'levelLoop': 1, 'gameType': 0, 'VIPStatus': 0, 'price': 1000, 'cardsInHand': 15, 'baseLuckyIndex': 0, 'targetGoldIndex': 0, 'targetCoins': 0, 'totalLuckyIndex': 0, 'prediction': 'Default'}  "
      ]
     },
     "execution_count": 31,
     "metadata": {},
     "output_type": "execute_result"
    }
   ],
   "source": [
    "data.where(data.user_id==20).dropna(how='all')"
   ]
  },
  {
   "cell_type": "markdown",
   "id": "a7b418b9",
   "metadata": {},
   "source": [
    "### Пользователи с 256 и 2048 МБ графической памяти"
   ]
  },
  {
   "cell_type": "code",
   "execution_count": 32,
   "id": "54b90a71",
   "metadata": {},
   "outputs": [],
   "source": [
    "gr256 = view_user_data('graphicMemory', data.where(data.event_name == 'appInstall').dropna(how='all'))\n",
    "gr256 = gr256.where(gr256.graphicMemory==256).dropna(how='all').user_id.values\n",
    "gr2048 = view_user_data('graphicMemory', data.where(data.event_name == 'appInstall').dropna(how='all'))\n",
    "gr2048 = gr2048.where(gr2048.graphicMemory==2048).dropna(how='all').user_id.values"
   ]
  },
  {
   "cell_type": "code",
   "execution_count": 33,
   "id": "3f43d3af",
   "metadata": {
    "scrolled": true
   },
   "outputs": [
    {
     "data": {
      "text/plain": [
       "Timedelta('0 days 02:17:30.588235294')"
      ]
     },
     "execution_count": 33,
     "metadata": {},
     "output_type": "execute_result"
    }
   ],
   "source": [
    "ans = []\n",
    "for value in gr256:\n",
    "    ans.append(InGameTimeCalculation(int(value), AllLearnedArray))\n",
    "np.sort(ans).mean()"
   ]
  },
  {
   "cell_type": "code",
   "execution_count": 34,
   "id": "f6954fc0",
   "metadata": {
    "scrolled": false
   },
   "outputs": [
    {
     "data": {
      "text/plain": [
       "Timedelta('0 days 00:48:09.512820512')"
      ]
     },
     "execution_count": 34,
     "metadata": {},
     "output_type": "execute_result"
    }
   ],
   "source": [
    "ans = []\n",
    "for value in gr2048:\n",
    "    ans.append(InGameTimeCalculation(int(value), AllLearnedArray))\n",
    "np.sort(ans).mean()"
   ]
  },
  {
   "cell_type": "markdown",
   "id": "c66af111",
   "metadata": {},
   "source": [
    "### Массив"
   ]
  },
  {
   "cell_type": "code",
   "execution_count": 35,
   "id": "09e9f94b",
   "metadata": {
    "scrolled": true
   },
   "outputs": [
    {
     "data": {
      "text/html": [
       "<div>\n",
       "<style scoped>\n",
       "    .dataframe tbody tr th:only-of-type {\n",
       "        vertical-align: middle;\n",
       "    }\n",
       "\n",
       "    .dataframe tbody tr th {\n",
       "        vertical-align: top;\n",
       "    }\n",
       "\n",
       "    .dataframe thead th {\n",
       "        text-align: right;\n",
       "    }\n",
       "</style>\n",
       "<table border=\"1\" class=\"dataframe\">\n",
       "  <thead>\n",
       "    <tr style=\"text-align: right;\">\n",
       "      <th></th>\n",
       "      <th>user_id</th>\n",
       "      <th>media_source</th>\n",
       "      <th>client_time</th>\n",
       "      <th>session_index</th>\n",
       "      <th>game_status</th>\n",
       "      <th>event_name</th>\n",
       "      <th>event_data</th>\n",
       "    </tr>\n",
       "  </thead>\n",
       "  <tbody>\n",
       "    <tr>\n",
       "      <th>337</th>\n",
       "      <td>20.0</td>\n",
       "      <td>organic</td>\n",
       "      <td>2021-06-05 16:47:02</td>\n",
       "      <td>1.0</td>\n",
       "      <td>{'coins': 0, 'freeRounds': 0, 'freeUndo': 0, 'freeWildCard': 0, 'freeAddCards': 0, 'level': 0, 'map': 1, 'bet': 1, 'gladeId': 1, 'league': 0, 'VIPPointsAmount': 0, 'VIPStatus': 0}</td>\n",
       "      <td>appInstall</td>\n",
       "      <td>{'device': 'HUAWEI MAR-LX1B', 'graphicMemory': 2048, 'systemMemory': 5722}</td>\n",
       "    </tr>\n",
       "    <tr>\n",
       "      <th>24261</th>\n",
       "      <td>20.0</td>\n",
       "      <td>organic</td>\n",
       "      <td>2021-06-05 16:47:02</td>\n",
       "      <td>1.0</td>\n",
       "      <td>{'coins': 0, 'freeRounds': 0, 'freeUndo': 3, 'freeWildCard': 0, 'freeAddCards': 0, 'level': 0, 'map': 1, 'bet': 1, 'gladeId': 1, 'league': 0, 'VIPPointsAmount': 0, 'VIPStatus': 0}</td>\n",
       "      <td>getBooster</td>\n",
       "      <td>{'type': 'freeUndo', 'from': 'FirstGift', 'amount': 3}</td>\n",
       "    </tr>\n",
       "    <tr>\n",
       "      <th>24262</th>\n",
       "      <td>20.0</td>\n",
       "      <td>organic</td>\n",
       "      <td>2021-06-05 16:47:02</td>\n",
       "      <td>1.0</td>\n",
       "      <td>{'coins': 0, 'freeRounds': 0, 'freeUndo': 3, 'freeWildCard': 3, 'freeAddCards': 3, 'level': 0, 'map': 1, 'bet': 1, 'gladeId': 1, 'league': 0, 'VIPPointsAmount': 0, 'VIPStatus': 0}</td>\n",
       "      <td>getBooster</td>\n",
       "      <td>{'type': 'freeWildCard', 'from': 'FirstGift', 'amount': 3}</td>\n",
       "    </tr>\n",
       "    <tr>\n",
       "      <th>24263</th>\n",
       "      <td>20.0</td>\n",
       "      <td>organic</td>\n",
       "      <td>2021-06-05 16:47:02</td>\n",
       "      <td>1.0</td>\n",
       "      <td>{'coins': 0, 'freeRounds': 0, 'freeUndo': 3, 'freeWildCard': 0, 'freeAddCards': 3, 'level': 0, 'map': 1, 'bet': 1, 'gladeId': 1, 'league': 0, 'VIPPointsAmount': 0, 'VIPStatus': 0}</td>\n",
       "      <td>getBooster</td>\n",
       "      <td>{'type': 'freeExtraCards', 'from': 'FirstGift', 'amount': 3}</td>\n",
       "    </tr>\n",
       "    <tr>\n",
       "      <th>361685</th>\n",
       "      <td>20.0</td>\n",
       "      <td>organic</td>\n",
       "      <td>2021-06-05 16:47:02</td>\n",
       "      <td>1.0</td>\n",
       "      <td>{'coins': 5000, 'freeRounds': 0, 'freeUndo': 3, 'freeWildCard': 3, 'freeAddCards': 3, 'level': 1, 'map': 1, 'bet': 1, 'gladeId': 1, 'league': 0, 'gameType': 0, 'VIPPointsAmount': 0, 'VIPStatus': 0}</td>\n",
       "      <td>levelStart</td>\n",
       "      <td>{'retry': False, 'level': 1, 'levelLoop': 1, 'gameType': 0, 'VIPStatus': 0, 'price': 1000, 'cardsInHand': 15, 'baseLuckyIndex': 0, 'targetGoldIndex': 0, 'targetCoins': 0, 'totalLuckyIndex': 0, 'prediction': 'Default'}</td>\n",
       "    </tr>\n",
       "  </tbody>\n",
       "</table>\n",
       "</div>"
      ],
      "text/plain": [
       "        user_id media_source         client_time  session_index  \\\n",
       "337        20.0      organic 2021-06-05 16:47:02            1.0   \n",
       "24261      20.0      organic 2021-06-05 16:47:02            1.0   \n",
       "24262      20.0      organic 2021-06-05 16:47:02            1.0   \n",
       "24263      20.0      organic 2021-06-05 16:47:02            1.0   \n",
       "361685     20.0      organic 2021-06-05 16:47:02            1.0   \n",
       "\n",
       "                                                                                                                                                                                                  game_status  \\\n",
       "337                       {'coins': 0, 'freeRounds': 0, 'freeUndo': 0, 'freeWildCard': 0, 'freeAddCards': 0, 'level': 0, 'map': 1, 'bet': 1, 'gladeId': 1, 'league': 0, 'VIPPointsAmount': 0, 'VIPStatus': 0}   \n",
       "24261                     {'coins': 0, 'freeRounds': 0, 'freeUndo': 3, 'freeWildCard': 0, 'freeAddCards': 0, 'level': 0, 'map': 1, 'bet': 1, 'gladeId': 1, 'league': 0, 'VIPPointsAmount': 0, 'VIPStatus': 0}   \n",
       "24262                     {'coins': 0, 'freeRounds': 0, 'freeUndo': 3, 'freeWildCard': 3, 'freeAddCards': 3, 'level': 0, 'map': 1, 'bet': 1, 'gladeId': 1, 'league': 0, 'VIPPointsAmount': 0, 'VIPStatus': 0}   \n",
       "24263                     {'coins': 0, 'freeRounds': 0, 'freeUndo': 3, 'freeWildCard': 0, 'freeAddCards': 3, 'level': 0, 'map': 1, 'bet': 1, 'gladeId': 1, 'league': 0, 'VIPPointsAmount': 0, 'VIPStatus': 0}   \n",
       "361685  {'coins': 5000, 'freeRounds': 0, 'freeUndo': 3, 'freeWildCard': 3, 'freeAddCards': 3, 'level': 1, 'map': 1, 'bet': 1, 'gladeId': 1, 'league': 0, 'gameType': 0, 'VIPPointsAmount': 0, 'VIPStatus': 0}   \n",
       "\n",
       "        event_name  \\\n",
       "337     appInstall   \n",
       "24261   getBooster   \n",
       "24262   getBooster   \n",
       "24263   getBooster   \n",
       "361685  levelStart   \n",
       "\n",
       "                                                                                                                                                                                                                       event_data  \n",
       "337                                                                                                                                                    {'device': 'HUAWEI MAR-LX1B', 'graphicMemory': 2048, 'systemMemory': 5722}  \n",
       "24261                                                                                                                                                                      {'type': 'freeUndo', 'from': 'FirstGift', 'amount': 3}  \n",
       "24262                                                                                                                                                                  {'type': 'freeWildCard', 'from': 'FirstGift', 'amount': 3}  \n",
       "24263                                                                                                                                                                {'type': 'freeExtraCards', 'from': 'FirstGift', 'amount': 3}  \n",
       "361685  {'retry': False, 'level': 1, 'levelLoop': 1, 'gameType': 0, 'VIPStatus': 0, 'price': 1000, 'cardsInHand': 15, 'baseLuckyIndex': 0, 'targetGoldIndex': 0, 'targetCoins': 0, 'totalLuckyIndex': 0, 'prediction': 'Default'}  "
      ]
     },
     "execution_count": 35,
     "metadata": {},
     "output_type": "execute_result"
    }
   ],
   "source": [
    "AllLearnedArray[20]"
   ]
  },
  {
   "cell_type": "code",
   "execution_count": 36,
   "id": "cbf71df9",
   "metadata": {},
   "outputs": [],
   "source": [
    "%matplotlib inline"
   ]
  },
  {
   "cell_type": "code",
   "execution_count": 80,
   "id": "d8db2c73",
   "metadata": {},
   "outputs": [
    {
     "data": {
      "text/plain": [
       "13.20890410958904"
      ]
     },
     "execution_count": 80,
     "metadata": {},
     "output_type": "execute_result"
    },
    {
     "data": {
      "image/png": "[encoded data removed]",
      "text/plain": [
       "<Figure size 432x288 with 1 Axes>"
      ]
     },
     "metadata": {
      "needs_background": "light"
     },
     "output_type": "display_data"
    }
   ],
   "source": [
    "# Количество бустеров во время обучения у дошедших до конца обучения\n",
    "x=[]\n",
    "for i, user in enumerate(LearningArray): \n",
    "    x.append(user.event_name.where(user.event_name==\"getBooster\").count())   \n",
    "arr = []\n",
    "for value in x:\n",
    "    if value < 50: \n",
    "        arr.append(value)\n",
    "plt.hist(x, bins = 10)\n",
    "plt.xlabel('Количество бустеров')\n",
    "plt.ylabel('Количество пользователей')\n",
    "plt.title('Количество бустеров у обученных пользователей во время обучения')\n",
    "np.mean(x)"
   ]
  },
  {
   "cell_type": "code",
   "execution_count": 78,
   "id": "0d5ebb2f",
   "metadata": {},
   "outputs": [
    {
     "data": {
      "text/plain": [
       "39.39375"
      ]
     },
     "execution_count": 78,
     "metadata": {},
     "output_type": "execute_result"
    },
    {
     "data": {
      "image/png": "[encoded data removed]",
      "text/plain": [
       "<Figure size 432x288 with 1 Axes>"
      ]
     },
     "metadata": {
      "needs_background": "light"
     },
     "output_type": "display_data"
    }
   ],
   "source": [
    "# Количество бустеров во время обучения у не дошедших до конца обучения\n",
    "x=[]\n",
    "for i, user in enumerate(UnlearnedArray): \n",
    "    x.append(user.event_name.where(user.event_name==\"getBooster\").count())  \n",
    "arr = []\n",
    "for value in x:\n",
    "    if value < 50: \n",
    "        arr.append(value)\n",
    "plt.hist(x, bins = 10)\n",
    "plt.xlabel('Количество бустеров')\n",
    "plt.ylabel('Количество пользователей')\n",
    "plt.title('Количество бустеров у необученных пользователей')\n",
    "np.mean(x)"
   ]
  },
  {
   "cell_type": "code",
   "execution_count": 76,
   "id": "261850d0",
   "metadata": {},
   "outputs": [
    {
     "data": {
      "text/plain": [
       "66.06164383561644"
      ]
     },
     "execution_count": 76,
     "metadata": {},
     "output_type": "execute_result"
    },
    {
     "data": {
      "image/png": "[encoded data removed]",
      "text/plain": [
       "<Figure size 432x288 with 1 Axes>"
      ]
     },
     "metadata": {
      "needs_background": "light"
     },
     "output_type": "display_data"
    }
   ],
   "source": [
    "# Количество подсказок на время обучения у дошедших до конца обучения\n",
    "x=[]\n",
    "for i, user in enumerate(LearningArray): \n",
    "    x.append(user.event_name.where(user.event_name==\"learning\").count())\n",
    "plt.hist(x, bins = 15)\n",
    "plt.xlabel('Количество подсказок')\n",
    "plt.ylabel('Количество пользователей')\n",
    "plt.title('Количество подсказок у обученных пользователей во время обучения')\n",
    "np.mean(x)"
   ]
  },
  {
   "cell_type": "code",
   "execution_count": 49,
   "id": "431107ff",
   "metadata": {},
   "outputs": [
    {
     "data": {
      "text/plain": [
       "23.73125"
      ]
     },
     "execution_count": 49,
     "metadata": {},
     "output_type": "execute_result"
    },
    {
     "data": {
      "image/png": "[encoded data removed]",
      "text/plain": [
       "<Figure size 432x288 with 1 Axes>"
      ]
     },
     "metadata": {
      "needs_background": "light"
     },
     "output_type": "display_data"
    }
   ],
   "source": [
    "# Количество подсказок на время обучения у не дошедших до конца обучения\n",
    "x=[]\n",
    "for i, user in enumerate(UnlearnedArray): \n",
    "    x.append(user.event_name.where(user.event_name==\"learning\").count())\n",
    "plt.hist(x, bins = 15)\n",
    "plt.xlabel('Количество подсказок')\n",
    "plt.ylabel('Количество пользователей')\n",
    "plt.title('Количество подсказок у необученных пользователей')\n",
    "np.mean(x)"
   ]
  },
  {
   "cell_type": "code",
   "execution_count": 54,
   "id": "b96b6ac3",
   "metadata": {
    "scrolled": false
   },
   "outputs": [],
   "source": [
    "losedunlearned=[]\n",
    "losedlearned=[]\n",
    "for user in UnlearnedArray:\n",
    "    buff = view_data('win', user.where(data.event_name == 'levelEnd').dropna(how='all'))\n",
    "    losedunlearned.append(buff.count('DEFEAT'))\n",
    "for user in LearningArray:\n",
    "    buff = view_data('win', user.where(data.event_name == 'levelEnd').dropna(how='all'))\n",
    "    losedlearned.append(buff.count('DEFEAT'))"
   ]
  },
  {
   "cell_type": "code",
   "execution_count": 56,
   "id": "2f42ec2f",
   "metadata": {},
   "outputs": [
    {
     "data": {
      "text/plain": [
       "Text(0.5, 1.0, 'Количество поражений у необученных пользователей')"
      ]
     },
     "execution_count": 56,
     "metadata": {},
     "output_type": "execute_result"
    },
    {
     "data": {
      "image/png": "[encoded data removed]",
      "text/plain": [
       "<Figure size 432x288 with 1 Axes>"
      ]
     },
     "metadata": {
      "needs_background": "light"
     },
     "output_type": "display_data"
    }
   ],
   "source": [
    "arr = []\n",
    "for x in losedunlearned:\n",
    "    if x < 10: \n",
    "        arr.append(x)\n",
    "plt.hist(arr, bins = 10)\n",
    "plt.xlabel('Количество поражений')\n",
    "plt.ylabel('Количество пользователей')\n",
    "plt.title('Количество поражений у необученных пользователей')"
   ]
  },
  {
   "cell_type": "code",
   "execution_count": 77,
   "id": "dbbf18d1",
   "metadata": {},
   "outputs": [
    {
     "data": {
      "text/plain": [
       "Text(0.5, 1.0, 'Количество поражений у обученных пользователей во время обучения')"
      ]
     },
     "execution_count": 77,
     "metadata": {},
     "output_type": "execute_result"
    },
    {
     "data": {
      "image/png": "[encoded data removed]",
      "text/plain": [
       "<Figure size 432x288 with 1 Axes>"
      ]
     },
     "metadata": {
      "needs_background": "light"
     },
     "output_type": "display_data"
    }
   ],
   "source": [
    "arr = []\n",
    "for x in losedlearned:\n",
    "    if x < 10: \n",
    "        arr.append(x)\n",
    "plt.hist(arr, bins = 10)\n",
    "plt.xlabel('Количество поражений')\n",
    "plt.ylabel('Количество пользователей')\n",
    "plt.title('Количество поражений у обученных пользователей во время обучения')"
   ]
  },
  {
   "cell_type": "code",
   "execution_count": 58,
   "id": "dbd03ab5",
   "metadata": {
    "scrolled": false
   },
   "outputs": [
    {
     "data": {
      "text/plain": [
       "Text(0.5, 1.0, 'Количество поражений у необученных пользователей')"
      ]
     },
     "execution_count": 58,
     "metadata": {},
     "output_type": "execute_result"
    },
    {
     "data": {
      "image/png": "[encoded data removed]",
      "text/plain": [
       "<Figure size 432x288 with 1 Axes>"
      ]
     },
     "metadata": {
      "needs_background": "light"
     },
     "output_type": "display_data"
    }
   ],
   "source": [
    "plt.hist(losedunlearned, bins = 40)\n",
    "plt.xlabel('Количество поражений')\n",
    "plt.ylabel('Количество пользователей')\n",
    "plt.title('Количество поражений у необученных пользователей')"
   ]
  },
  {
   "cell_type": "code",
   "execution_count": 59,
   "id": "c06170b6",
   "metadata": {
    "scrolled": false
   },
   "outputs": [
    {
     "data": {
      "text/plain": [
       "Text(0.5, 1.0, 'Количество поражений у обученных пользователей')"
      ]
     },
     "execution_count": 59,
     "metadata": {},
     "output_type": "execute_result"
    },
    {
     "data": {
      "image/png": "[encoded data removed]",
      "text/plain": [
       "<Figure size 432x288 with 1 Axes>"
      ]
     },
     "metadata": {
      "needs_background": "light"
     },
     "output_type": "display_data"
    }
   ],
   "source": [
    "plt.hist(losedlearned, bins = 40)\n",
    "plt.xlabel('Количество поражений')\n",
    "plt.ylabel('Количество пользователей')\n",
    "plt.title('Количество поражений у обученных пользователей')"
   ]
  },
  {
   "cell_type": "code",
   "execution_count": 60,
   "id": "60d17117",
   "metadata": {},
   "outputs": [],
   "source": [
    "DonateArray = []\n",
    "adarray = []\n",
    "for user in UserArray:\n",
    "    if (user.media_source=='ad-traffic').values[0]==True:\n",
    "        adarray.append(user.user_id.values[0].astype(int))"
   ]
  },
  {
   "cell_type": "markdown",
   "id": "e53387fd",
   "metadata": {},
   "source": [
    "#### 159 Пользователей с рекламы. "
   ]
  },
  {
   "cell_type": "code",
   "execution_count": 61,
   "id": "3964c6f0",
   "metadata": {
    "scrolled": true
   },
   "outputs": [
    {
     "data": {
      "text/plain": [
       "159"
      ]
     },
     "execution_count": 61,
     "metadata": {},
     "output_type": "execute_result"
    }
   ],
   "source": [
    "len(adarray)"
   ]
  },
  {
   "cell_type": "markdown",
   "id": "a0ade788",
   "metadata": {},
   "source": [
    "#### CPI = 1.8 USD. С рекламы получено 56,57 USD.\n",
    "#### Эффективность: 159 * 1.8 (затраты) - 56.57 (доход) = 229.63 (убыток за неделю).\n",
    "#### При этом учитывается только недельная активность пользователей.\n",
    "### -----"
   ]
  },
  {
   "cell_type": "markdown",
   "id": "df19de4e",
   "metadata": {},
   "source": [
    "#### Для 21% игроков первая сессия оказалась последней. "
   ]
  },
  {
   "cell_type": "code",
   "execution_count": 63,
   "id": "c005cf53",
   "metadata": {
    "scrolled": false
   },
   "outputs": [
    {
     "name": "stdout",
     "output_type": "stream",
     "text": [
      "17.11283185840708\n",
      "0.21017699115044255\n"
     ]
    },
    {
     "data": {
      "text/plain": [
       "Text(0.5, 1.0, 'Количество сессий по пользователям')"
      ]
     },
     "execution_count": 63,
     "metadata": {},
     "output_type": "execute_result"
    },
    {
     "data": {
      "image/png": "[encoded data removed]",
      "text/plain": [
       "<Figure size 432x288 with 1 Axes>"
      ]
     },
     "metadata": {
      "needs_background": "light"
     },
     "output_type": "display_data"
    }
   ],
   "source": [
    "x=[]\n",
    "for user in UserArray:\n",
    "    x.append(np.max(user.session_index))\n",
    "axes = plt.hist(x, bins = 452, density=True)\n",
    "print(np.mean(x))\n",
    "print(axes[0][0]/sum(axes[0]))\n",
    "plt.axis([0, 100, 0, 300])\n",
    "plt.hist(x, bins = 40)\n",
    "plt.xlabel('Количество сессий')\n",
    "plt.ylabel('Количество пользователей')\n",
    "plt.title('Количество сессий по пользователям')"
   ]
  },
  {
   "cell_type": "code",
   "execution_count": 64,
   "id": "678f10ff",
   "metadata": {},
   "outputs": [],
   "source": [
    "ans = []\n",
    "for value in adarray:\n",
    "    ans.append(InGameTimeCalculation(value, UserArray))"
   ]
  },
  {
   "cell_type": "markdown",
   "id": "e3a814ca",
   "metadata": {},
   "source": [
    "#### В среднем игроки с рекламы играют больше остальных "
   ]
  },
  {
   "cell_type": "code",
   "execution_count": 65,
   "id": "860524c5",
   "metadata": {
    "scrolled": true
   },
   "outputs": [
    {
     "data": {
      "text/plain": [
       "Timedelta('0 days 02:52:07.861635220')"
      ]
     },
     "execution_count": 65,
     "metadata": {},
     "output_type": "execute_result"
    }
   ],
   "source": [
    "np.array(ans).mean()"
   ]
  },
  {
   "cell_type": "markdown",
   "id": "2b0dc27c",
   "metadata": {},
   "source": [
    "#### Кривая игроков с рекламы убывает менее резко, игроки более лояльны. Для 17% от этих игроков первая сессия оказалось последней. В среднем больше сессий."
   ]
  },
  {
   "cell_type": "code",
   "execution_count": 66,
   "id": "65c36a3a",
   "metadata": {},
   "outputs": [
    {
     "name": "stdout",
     "output_type": "stream",
     "text": [
      "21.72327044025157\n",
      "0.14465408805031446\n"
     ]
    },
    {
     "data": {
      "text/plain": [
       "Text(0.5, 1.0, 'Количество сессий у пользователей с рекламы')"
      ]
     },
     "execution_count": 66,
     "metadata": {},
     "output_type": "execute_result"
    },
    {
     "data": {
      "image/png": "[encoded data removed]",
      "text/plain": [
       "<Figure size 432x288 with 1 Axes>"
      ]
     },
     "metadata": {
      "needs_background": "light"
     },
     "output_type": "display_data"
    }
   ],
   "source": [
    "x=[]\n",
    "for user in adarray:\n",
    "    x.append(np.max(data.session_index.where(data.user_id==user)))\n",
    "axes = plt.hist(x, bins = 452)\n",
    "print(np.mean(x))\n",
    "print(axes[0][0]/sum(axes[0]))\n",
    "plt.axis([0, 100, 0, 200])\n",
    "plt.hist(x, bins = 40)\n",
    "plt.xlabel('Количество сессий')\n",
    "plt.ylabel('Количество пользователей')\n",
    "plt.title('Количество сессий у пользователей с рекламы')"
   ]
  },
  {
   "cell_type": "markdown",
   "id": "ace11649",
   "metadata": {},
   "source": [
    "## Retention"
   ]
  },
  {
   "cell_type": "code",
   "execution_count": 68,
   "id": "c58a841e",
   "metadata": {},
   "outputs": [],
   "source": [
    "from datetime import datetime, timedelta"
   ]
  },
  {
   "cell_type": "code",
   "execution_count": 69,
   "id": "46a9cdfe",
   "metadata": {},
   "outputs": [],
   "source": [
    "userdays=[]\n",
    "end = max(data.client_time)\n",
    "start = min(data.client_time)\n",
    "date_generated = [start + timedelta(days=x) for x in range(0, (end-start).days + 2)]\n",
    "for i in range((end-start).days):\n",
    "    userdays.append(set(data.user_id.where(data.client_time > date_generated[i]).where(data.client_time < date_generated[i+1]).dropna(how='all').values))"
   ]
  },
  {
   "cell_type": "code",
   "execution_count": 82,
   "id": "3e7ae507",
   "metadata": {
    "scrolled": false
   },
   "outputs": [
    {
     "name": "stdout",
     "output_type": "stream",
     "text": [
      "0.5331858407079646\n",
      "0.28761061946902655\n"
     ]
    },
    {
     "data": {
      "text/plain": [
       "Text(0.5, 1.0, 'Удержание пользователей по дням')"
      ]
     },
     "execution_count": 82,
     "metadata": {},
     "output_type": "execute_result"
    },
    {
     "data": {
      "image/png": "[encoded data removed]",
      "text/plain": [
       "<Figure size 432x288 with 1 Axes>"
      ]
     },
     "metadata": {
      "needs_background": "light"
     },
     "output_type": "display_data"
    }
   ],
   "source": [
    "x=range(len(userdays))\n",
    "y=[]\n",
    "for i in x:\n",
    "    y.append(len(userdays[i]))\n",
    "plt.plot(x,y)\n",
    "print(len(userdays[1])/len(userdays[0]))\n",
    "print(len(userdays[-1])/len(userdays[0]))\n",
    "plt.xlabel('День')\n",
    "plt.ylabel('Количество пользователей')\n",
    "plt.title('Удержание пользователей по дням')"
   ]
  },
  {
   "cell_type": "code",
   "execution_count": 194,
   "id": "dbc4c3ff",
   "metadata": {},
   "outputs": [],
   "source": [
    "x=range(len(userdays))\n",
    "addays=[[],[],[],[],[],[],[]]\n",
    "for i in x:\n",
    "    for y in adarray:\n",
    "        if (y in userdays[i]):\n",
    "            addays[i].append(y)"
   ]
  },
  {
   "cell_type": "code",
   "execution_count": 201,
   "id": "c0685c83",
   "metadata": {},
   "outputs": [
    {
     "name": "stdout",
     "output_type": "stream",
     "text": [
      "0.5331858407079646\n",
      "0.28761061946902655\n"
     ]
    },
    {
     "data": {
      "text/plain": [
       "Text(0.5, 1.0, 'Удержание пользователей с рекламы по дням')"
      ]
     },
     "execution_count": 201,
     "metadata": {},
     "output_type": "execute_result"
    },
    {
     "data": {
      "image/png": "[encoded data removed]",
      "text/plain": [
       "<Figure size 432x288 with 1 Axes>"
      ]
     },
     "metadata": {
      "needs_background": "light"
     },
     "output_type": "display_data"
    }
   ],
   "source": [
    "y=[]\n",
    "for i in x:\n",
    "    y.append(len(addays[i]))\n",
    "plt.plot(x,y)\n",
    "print(len(userdays[1])/len(userdays[0]))\n",
    "print(len(userdays[-1])/len(userdays[0]))\n",
    "plt.xlabel('День')\n",
    "plt.ylabel('Количество пользователей')\n",
    "plt.title('Удержание пользователей с рекламы по дням')"
   ]
  }
 ],
 "metadata": {
  "kernelspec": {
   "display_name": "Python 3",
   "language": "python",
   "name": "python3"
  },
  "language_info": {
   "codemirror_mode": {
    "name": "ipython",
    "version": 3
   },
   "file_extension": ".py",
   "mimetype": "text/x-python",
   "name": "python",
   "nbconvert_exporter": "python",
   "pygments_lexer": "ipython3",
   "version": "3.8.8"
  }
 },
 "nbformat": 4,
 "nbformat_minor": 5
}
